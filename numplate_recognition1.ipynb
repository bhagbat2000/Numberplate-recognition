{
 "cells": [
  {
   "cell_type": "code",
   "execution_count": null,
   "metadata": {},
   "outputs": [],
   "source": [
    "import numpy as np\n",
    "import cv2\n",
    "import  imutils\n",
    "\n",
    "# Read the image file\n",
    "image = cv2.imread(r\"C:\\Users\\Bhagabat\\Desktop\\Car_Image_1.jpg\")\n",
    "\n",
    "# Resize the image - change width to 500\n",
    "image = imutils.resize(image, width=500)\n",
    "\n",
    "# Display the original image\n",
    "cv2.imshow(\"Original Image\", image)\n",
    "\n",
    "# RGB to Gray scale conversion\n",
    "gray = cv2.cvtColor(image, cv2.COLOR_BGR2GRAY)\n",
    "cv2.imshow(\"1 - Grayscale Conversion\", gray)\n",
    "\n",
    "# Noise removal with iterative bilateral filter(removes noise while preserving edges)\n",
    "gray = cv2.bilateralFilter(gray, 11, 17, 17)\n",
    "cv2.imshow(\"2 - Bilateral Filter\", gray)\n",
    "\n",
    "# Find Edges of the grayscale image\n",
    "edged = cv2.Canny(gray, 170, 200)\n",
    "cv2.imshow(\"4 - Canny Edges\", edged)\n",
    "\n",
    "# Find contours based on Edges\n",
    "(cnts,_) = cv2.findContours(edged.copy(), cv2.RETR_LIST, cv2.CHAIN_APPROX_SIMPLE)\n",
    "cnts=sorted(cnts, key = cv2.contourArea, reverse = True)[:30] #sort contours based on their area keeping minimum required area as '30' (anything smaller than this will not be considered)\n",
    "NumberPlateCnt = None #we currently have no Number plate contour\n",
    "\n",
    "# loop over our contours to find the best possible approximate contour of number plate\n",
    "count = 0\n",
    "for c in cnts:\n",
    "        peri = cv2.arcLength(c, True)\n",
    "        approx = cv2.approxPolyDP(c, 0.02 * peri, True)\n",
    "        if len(approx) == 4:  # Select the contour with 4 corners\n",
    "            NumberPlateCnt = approx #This is our approx Number Plate Contour\n",
    "            break\n",
    "\n",
    "\n",
    "# Drawing the selected contour on the original image\n",
    "cv2.drawContours(image, [NumberPlateCnt], -1, (0,255,0), 3)\n",
    "cv2.imshow(\"Final Image With Number Plate Detected\", image)\n",
    "cv2.waitKey(0)"
   ]
  },
  {
   "cell_type": "code",
   "execution_count": null,
   "metadata": {},
   "outputs": [],
   "source": []
  },
  {
   "cell_type": "code",
   "execution_count": null,
   "metadata": {},
   "outputs": [],
   "source": []
  }
 ],
 "metadata": {
  "kernelspec": {
   "display_name": "Python 3",
   "language": "python",
   "name": "python3"
  },
  "language_info": {
   "codemirror_mode": {
    "name": "ipython",
    "version": 3
   },
   "file_extension": ".py",
   "mimetype": "text/x-python",
   "name": "python",
   "nbconvert_exporter": "python",
   "pygments_lexer": "ipython3",
   "version": "3.7.1"
  }
 },
 "nbformat": 4,
 "nbformat_minor": 2
}
